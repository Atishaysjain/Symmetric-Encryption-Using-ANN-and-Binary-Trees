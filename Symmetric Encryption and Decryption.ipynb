{
 "cells": [
  {
   "cell_type": "markdown",
   "id": "ef0c0165",
   "metadata": {},
   "source": [
    "Flow:\n",
    "Interleaving salting ->  Preorder and Inorder concatenation of Binary tree -> Artificial Neural Network "
   ]
  },
  {
   "cell_type": "markdown",
   "id": "703dfedf",
   "metadata": {},
   "source": [
    "# Installing dependencies"
   ]
  },
  {
   "cell_type": "code",
   "execution_count": 1,
   "id": "cb8b2610",
   "metadata": {
    "ExecuteTime": {
     "end_time": "2022-06-09T21:52:37.538853Z",
     "start_time": "2022-06-09T21:52:36.261453Z"
    }
   },
   "outputs": [],
   "source": [
    "import numpy as np\n",
    "import copy\n",
    "import os\n",
    "import tensorflow as tf\n",
    "from tensorflow import keras\n",
    "from tensorflow.keras.models import Sequential \n",
    "from tensorflow.keras import layers\n",
    "from tensorflow.keras import initializers\n",
    "from itertools import chain\n",
    "import collections\n",
    "from collections import deque"
   ]
  },
  {
   "cell_type": "markdown",
   "id": "1c1c7d4a",
   "metadata": {},
   "source": [
    "# Input data"
   ]
  },
  {
   "cell_type": "code",
   "execution_count": 2,
   "id": "84c827eb",
   "metadata": {
    "ExecuteTime": {
     "end_time": "2022-06-09T21:52:41.349323Z",
     "start_time": "2022-06-09T21:52:41.343571Z"
    }
   },
   "outputs": [],
   "source": [
    "# input_data = \"HDNKd gKLC LFKfg  fgGAUFfdsa fCMDG\"\n",
    "# salt = \"NBPFQLLpkqIQHIz10TGG\"\n",
    "input_data = \"abcdefghijklmnopqrstuvwxyz\"\n",
    "salt = \"123456789\""
   ]
  },
  {
   "cell_type": "markdown",
   "id": "2aaa49ac",
   "metadata": {},
   "source": [
    "# Interleaving Function"
   ]
  },
  {
   "cell_type": "markdown",
   "id": "94da4356",
   "metadata": {
    "heading_collapsed": true
   },
   "source": [
    "## Encryption"
   ]
  },
  {
   "cell_type": "code",
   "execution_count": 3,
   "id": "15fdfce7",
   "metadata": {
    "ExecuteTime": {
     "end_time": "2022-06-09T21:52:44.113639Z",
     "start_time": "2022-06-09T21:52:44.107220Z"
    },
    "hidden": true
   },
   "outputs": [],
   "source": [
    "def interleave(data1, data2):\n",
    "    \n",
    "    original_data2 = copy.deepcopy(data2)\n",
    "    \n",
    "    while(len(data2) < len(data1)):\n",
    "        data2 += original_data2\n",
    "    \n",
    "    lvl1 = [''] * len(data1) * 2 \n",
    "    lvl1[::2] = data1[:len(data1)]\n",
    "    lvl1[1::2] = data2[:len(data1)]\n",
    "    \n",
    "    return lvl1"
   ]
  },
  {
   "cell_type": "code",
   "execution_count": 4,
   "id": "c47b27b5",
   "metadata": {
    "ExecuteTime": {
     "end_time": "2022-06-09T21:52:45.777374Z",
     "start_time": "2022-06-09T21:52:45.771438Z"
    },
    "hidden": true
   },
   "outputs": [],
   "source": [
    "lvl1 = interleave(input_data, salt)"
   ]
  },
  {
   "cell_type": "code",
   "execution_count": 5,
   "id": "14c36349",
   "metadata": {
    "ExecuteTime": {
     "end_time": "2022-06-09T21:52:46.292193Z",
     "start_time": "2022-06-09T21:52:46.266987Z"
    },
    "hidden": true
   },
   "outputs": [
    {
     "data": {
      "text/plain": [
       "\"['a', '1', 'b', '2', 'c', '3', 'd', '4', 'e', '5', 'f', '6', 'g', '7', 'h', '8', 'i', '9', 'j', '1', 'k', '2', 'l', '3', 'm', '4', 'n', '5', 'o', '6', 'p', '7', 'q', '8', 'r', '9', 's', '1', 't', '2', 'u', '3', 'v', '4', 'w', '5', 'x', '6', 'y', '7', 'z', '8']\""
      ]
     },
     "execution_count": 5,
     "metadata": {},
     "output_type": "execute_result"
    }
   ],
   "source": [
    "str(lvl1)"
   ]
  },
  {
   "cell_type": "markdown",
   "id": "c3a3df09",
   "metadata": {
    "heading_collapsed": true
   },
   "source": [
    "## Decryption"
   ]
  },
  {
   "cell_type": "code",
   "execution_count": 6,
   "id": "18a86a49",
   "metadata": {
    "ExecuteTime": {
     "end_time": "2022-06-09T21:52:48.416314Z",
     "start_time": "2022-06-09T21:52:48.413776Z"
    },
    "hidden": true
   },
   "outputs": [],
   "source": [
    "def decrypt_interleave(interleaved_data):\n",
    "    \n",
    "    data1 = interleaved_data[::2]\n",
    "    data2 = interleaved_data[1::2]\n",
    "    \n",
    "    return data1, data2"
   ]
  },
  {
   "cell_type": "code",
   "execution_count": 7,
   "id": "39070d9f",
   "metadata": {
    "ExecuteTime": {
     "end_time": "2022-06-09T21:52:49.264364Z",
     "start_time": "2022-06-09T21:52:49.256965Z"
    },
    "hidden": true
   },
   "outputs": [],
   "source": [
    "data1, data2 = decrypt_interleave(interleaved_data = lvl1)"
   ]
  },
  {
   "cell_type": "code",
   "execution_count": 8,
   "id": "8f40735c",
   "metadata": {
    "ExecuteTime": {
     "end_time": "2022-06-09T21:52:49.792874Z",
     "start_time": "2022-06-09T21:52:49.785387Z"
    },
    "hidden": true
   },
   "outputs": [
    {
     "name": "stdout",
     "output_type": "stream",
     "text": [
      "['a', 'b', 'c', 'd', 'e', 'f', 'g', 'h', 'i', 'j', 'k', 'l', 'm', 'n', 'o', 'p', 'q', 'r', 's', 't', 'u', 'v', 'w', 'x', 'y', 'z'] ['1', '2', '3', '4', '5', '6', '7', '8', '9', '1', '2', '3', '4', '5', '6', '7', '8', '9', '1', '2', '3', '4', '5', '6', '7', '8']\n"
     ]
    }
   ],
   "source": [
    "print(data1, data2)"
   ]
  },
  {
   "cell_type": "markdown",
   "id": "a952895f",
   "metadata": {},
   "source": [
    "# Binary Tree code"
   ]
  },
  {
   "cell_type": "markdown",
   "id": "78f087d6",
   "metadata": {},
   "source": [
    "## functions to create and traverse trees"
   ]
  },
  {
   "cell_type": "code",
   "execution_count": 9,
   "id": "290f044e",
   "metadata": {
    "ExecuteTime": {
     "end_time": "2022-06-09T21:53:06.905270Z",
     "start_time": "2022-06-09T21:53:06.898356Z"
    }
   },
   "outputs": [],
   "source": [
    "class Node:\n",
    "    def __init__(self, key, left = None, right = None):\n",
    "        self.data = key\n",
    "        self.left = left\n",
    "        self.right = right"
   ]
  },
  {
   "cell_type": "code",
   "execution_count": 10,
   "id": "44a24bee",
   "metadata": {
    "ExecuteTime": {
     "end_time": "2022-06-09T21:53:19.309284Z",
     "start_time": "2022-06-09T21:53:19.295311Z"
    }
   },
   "outputs": [],
   "source": [
    "# Creates a binary tree using level order traversal, 2 nodes per branch\n",
    "def makeTree(s): \n",
    "    \n",
    "    root=Node(s[0])\n",
    "    queue = []\n",
    " \n",
    "    queue.append((root,0))\n",
    " \n",
    "    while(len(queue) > 0):\n",
    "        sz=len(queue)\n",
    "        for i in range(0,sz):\n",
    "            node,index = queue.pop(0)\n",
    "    \n",
    "            if (index*2+1) < len(s):\n",
    "                node.left=Node(s[index*2+1])\n",
    "                queue.append((node.left,index*2+1))\n",
    "    \n",
    "            if (index*2+2) < len(s):\n",
    "                node.right=Node(s[index*2+2])\n",
    "                queue.append((node.right,index*2+2))\n",
    "    \n",
    "    return root"
   ]
  },
  {
   "cell_type": "code",
   "execution_count": 11,
   "id": "6c0cb180",
   "metadata": {
    "ExecuteTime": {
     "end_time": "2022-06-09T21:53:22.964221Z",
     "start_time": "2022-06-09T21:53:22.951950Z"
    }
   },
   "outputs": [],
   "source": [
    "# Returns the level order traversal of the tree\n",
    "def getLevelOrder(root):\n",
    "    \n",
    "    if root is None:\n",
    "        return\n",
    "\n",
    "    queue = []\n",
    " \n",
    "    queue.append(root)\n",
    "\n",
    "    levelorder = []\n",
    "    \n",
    "    while(len(queue) > 0):\n",
    "        \n",
    "        sz=len(queue)\n",
    "        \n",
    "        for i in range(0,sz):\n",
    "            \n",
    "            levelorder.append(queue[0].data)\n",
    "            node = queue.pop(0)\n",
    "    \n",
    "            if node.left is not None:\n",
    "                queue.append(node.left)\n",
    "\n",
    "            if node.right is not None:\n",
    "                queue.append(node.right)\n",
    "        \n",
    "    return levelorder"
   ]
  },
  {
   "cell_type": "code",
   "execution_count": 12,
   "id": "f948b2ee",
   "metadata": {
    "ExecuteTime": {
     "end_time": "2022-06-09T21:53:28.844505Z",
     "start_time": "2022-06-09T21:53:28.841919Z"
    }
   },
   "outputs": [],
   "source": [
    "# Returns the preorder traversal of the tree\n",
    "def getPreorder(root):\n",
    "    \n",
    "    preorder.append(root.data)\n",
    "    \n",
    "    if root.left is not None:\n",
    "        getPreorder(root.left)\n",
    "    \n",
    "    if root.right is not None:\n",
    "        getPreorder(root.right)"
   ]
  },
  {
   "cell_type": "code",
   "execution_count": 13,
   "id": "3893d323",
   "metadata": {
    "ExecuteTime": {
     "end_time": "2022-06-09T21:53:33.082119Z",
     "start_time": "2022-06-09T21:53:33.073368Z"
    }
   },
   "outputs": [],
   "source": [
    "# Returns the inorder traversal of the tree\n",
    "def getInorder(root):\n",
    "    \n",
    "    if root.left is not None:\n",
    "        getInorder(root.left)\n",
    "    \n",
    "    inorder.append(root.data)\n",
    "    \n",
    "    if root.right is not None:\n",
    "        getInorder(root.right)"
   ]
  },
  {
   "cell_type": "code",
   "execution_count": 14,
   "id": "cb19f1b7",
   "metadata": {
    "ExecuteTime": {
     "end_time": "2022-06-09T21:54:16.486931Z",
     "start_time": "2022-06-09T21:54:16.476639Z"
    }
   },
   "outputs": [],
   "source": [
    "# Recursive function to construct a binary tree from a given inorder and preorder sequence\n",
    "def construct(start, end, preorder, pIndex, d):\n",
    " \n",
    "    if start > end:\n",
    "        return None, pIndex\n",
    " \n",
    "    root = Node(preorder[pIndex])\n",
    "    pIndex = pIndex + 1\n",
    " \n",
    "    index = d[root.data]\n",
    " \n",
    "    root.left, pIndex = construct(start, index - 1, preorder, pIndex, d)\n",
    " \n",
    "    root.right, pIndex = construct(index + 1, end, preorder, pIndex, d)\n",
    " \n",
    "    return root, pIndex"
   ]
  },
  {
   "cell_type": "code",
   "execution_count": 15,
   "id": "05a31a2d",
   "metadata": {
    "ExecuteTime": {
     "end_time": "2022-06-09T21:54:23.442500Z",
     "start_time": "2022-06-09T21:54:23.434338Z"
    }
   },
   "outputs": [],
   "source": [
    "# Construct a binary tree from inorder and preorder traversals.\n",
    "def constructTree(inorder, preorder):\n",
    " \n",
    "    d = {}\n",
    "    for i, e in enumerate(inorder):\n",
    "        d[e] = i\n",
    "\n",
    "    pIndex = 0\n",
    " \n",
    "    return construct(0, len(inorder) - 1, preorder, pIndex, d)[0]"
   ]
  },
  {
   "cell_type": "code",
   "execution_count": 16,
   "id": "151bfb65",
   "metadata": {
    "ExecuteTime": {
     "end_time": "2022-06-09T21:54:36.486788Z",
     "start_time": "2022-06-09T21:54:36.476983Z"
    }
   },
   "outputs": [],
   "source": [
    "# modifies duplicates so that a binary tree could be constructed using preorder and inorder traversal. \n",
    "# Eg. ['a', 'a', 'b', a', 'b'] would become ['a', 'a*', 'b', a**', 'b*']\n",
    "\n",
    "def modify_duplicates(input_list):\n",
    "    \n",
    "    for index, i in enumerate(input_list):\n",
    "        \n",
    "        if i in input_list[index+1:]:\n",
    "            num = 1\n",
    "        \n",
    "            for j in range(index+1, len(input_list)):\n",
    "                \n",
    "                if(input_list[j] == i):\n",
    "                    append_str = '*'*num\n",
    "                    input_list[j] = f'{i}{append_str}'\n",
    "                    num += 1\n",
    "                    \n",
    "    return input_list"
   ]
  },
  {
   "cell_type": "code",
   "execution_count": 17,
   "id": "9cda525c",
   "metadata": {
    "ExecuteTime": {
     "end_time": "2022-06-09T21:54:38.036268Z",
     "start_time": "2022-06-09T21:54:38.029116Z"
    }
   },
   "outputs": [],
   "source": [
    "# This function removes \"*\" from the output list as \"*\" were added to make sure that each element is a unique element \n",
    "\n",
    "def remove_stars(input_list):\n",
    "    \n",
    "    for i in range(0, len(input_list)):\n",
    "        if '*' in input_list[i]:\n",
    "            input_list[i] = input_list[i].split('*')[0]\n",
    "            \n",
    "    return input_list"
   ]
  },
  {
   "cell_type": "markdown",
   "id": "1e97a14f",
   "metadata": {},
   "source": [
    "## Binary tree encryption function"
   ]
  },
  {
   "cell_type": "code",
   "execution_count": 24,
   "id": "057ffb86",
   "metadata": {
    "ExecuteTime": {
     "end_time": "2022-06-09T21:54:59.021369Z",
     "start_time": "2022-06-09T21:54:59.018760Z"
    }
   },
   "outputs": [],
   "source": [
    "def encrypt_binary_tree(lvl1):\n",
    "    \n",
    "    s = modify_duplicates(input_list = lvl1)\n",
    "    \n",
    "    root = makeTree(lvl1)\n",
    "    \n",
    "#     levelorder = getLevelOrder(root)\n",
    "    \n",
    "    getInorder(root)\n",
    "    \n",
    "    getPreorder(root)\n",
    "        \n",
    "#     lvl2 = interleave(inorder, preorder)\n",
    "    \n",
    "#     lvl2 = remove_stars(lvl2)\n",
    "    \n",
    "    return inorder, preorder"
   ]
  },
  {
   "cell_type": "code",
   "execution_count": 25,
   "id": "481dc8ab",
   "metadata": {
    "ExecuteTime": {
     "end_time": "2022-06-09T21:54:59.239666Z",
     "start_time": "2022-06-09T21:54:59.237381Z"
    }
   },
   "outputs": [],
   "source": [
    "inorder = []\n",
    "preorder = []\n",
    "inorder, preorder = encrypt_binary_tree(lvl1)"
   ]
  },
  {
   "cell_type": "markdown",
   "id": "4aaf6274",
   "metadata": {},
   "source": [
    "## Binary tree decryption function"
   ]
  },
  {
   "cell_type": "code",
   "execution_count": 27,
   "id": "2a9275bd",
   "metadata": {
    "ExecuteTime": {
     "end_time": "2022-06-09T21:55:32.313962Z",
     "start_time": "2022-06-09T21:55:32.311978Z"
    }
   },
   "outputs": [],
   "source": [
    "def decrypt_binary_tree(inorder, preorder):\n",
    "    \n",
    "    root2 = constructTree(inorder, preorder)\n",
    "    \n",
    "    levelorder = getLevelOrder(root2)\n",
    "    \n",
    "    lvl1 = remove_stars(input_list = levelorder)\n",
    "    \n",
    "    return lvl1"
   ]
  },
  {
   "cell_type": "code",
   "execution_count": 28,
   "id": "db4c219e",
   "metadata": {
    "ExecuteTime": {
     "end_time": "2022-06-09T21:55:52.142514Z",
     "start_time": "2022-06-09T21:55:52.135794Z"
    }
   },
   "outputs": [],
   "source": [
    "lvl1 = decrypt_binary_tree(inorder, preorder)"
   ]
  },
  {
   "cell_type": "code",
   "execution_count": 29,
   "id": "b31aba8f",
   "metadata": {
    "ExecuteTime": {
     "end_time": "2022-06-09T21:55:52.902629Z",
     "start_time": "2022-06-09T21:55:52.893417Z"
    }
   },
   "outputs": [
    {
     "data": {
      "text/plain": [
       "\"['a', '1', 'b', '2', 'c', '3', 'd', '4', 'e', '5', 'f', '6', 'g', '7', 'h', '8', 'i', '9', 'j', '1', 'k', '2', 'l', '3', 'm', '4', 'n', '5', 'o', '6', 'p', '7', 'q', '8', 'r', '9', 's', '1', 't', '2', 'u', '3', 'v', '4', 'w', '5', 'x', '6', 'y', '7', 'z', '8']\""
      ]
     },
     "execution_count": 29,
     "metadata": {},
     "output_type": "execute_result"
    }
   ],
   "source": [
    "str(lvl1)"
   ]
  },
  {
   "cell_type": "markdown",
   "id": "2201f895",
   "metadata": {},
   "source": [
    "# Artificial Neural Network"
   ]
  },
  {
   "cell_type": "markdown",
   "id": "e61e8c46",
   "metadata": {
    "heading_collapsed": true
   },
   "source": [
    "## Functions for encrypting Artificial Neural Networks"
   ]
  },
  {
   "cell_type": "code",
   "execution_count": 30,
   "id": "b51b334e",
   "metadata": {
    "ExecuteTime": {
     "end_time": "2022-06-09T21:56:16.702458Z",
     "start_time": "2022-06-09T21:56:16.700080Z"
    },
    "hidden": true
   },
   "outputs": [],
   "source": [
    "inorder_lvl2, preorder_lvl2 = copy.deepcopy(inorder), copy.deepcopy(preorder)"
   ]
  },
  {
   "cell_type": "code",
   "execution_count": 31,
   "id": "6fe073f0",
   "metadata": {
    "ExecuteTime": {
     "end_time": "2022-06-09T21:56:17.437582Z",
     "start_time": "2022-06-09T21:56:17.427279Z"
    },
    "hidden": true
   },
   "outputs": [],
   "source": [
    "def get_ann_input(data_lvl2):\n",
    "    \n",
    "    data_ann = []\n",
    "\n",
    "    for i in data_lvl2:\n",
    "\n",
    "        if '*' in i:\n",
    "            l = i.split('*')\n",
    "            num = ord(l[0])\n",
    "            num += 256*(len(l)-1)\n",
    "            data_ann.append(num)\n",
    "\n",
    "        else:\n",
    "            data_ann.append(ord(i))\n",
    "            \n",
    "    return data_ann"
   ]
  },
  {
   "cell_type": "code",
   "execution_count": 32,
   "id": "5e9c5f6e",
   "metadata": {
    "ExecuteTime": {
     "end_time": "2022-06-09T21:56:18.107992Z",
     "start_time": "2022-06-09T21:56:18.096913Z"
    },
    "hidden": true
   },
   "outputs": [],
   "source": [
    "def slice_input(input_array, n):\n",
    "    \n",
    "    sliced_array = []\n",
    "    \n",
    "    for i in range(0, int(len(input_array)/n)):\n",
    "        \n",
    "        sliced_array.append(input_array[n*i:n*(i+1)])\n",
    "        \n",
    "    sliced_array.append(input_array[n*(i+1):])\n",
    "    \n",
    "    while(len(sliced_array[-1]) < n):\n",
    "        sliced_array[-1].append(-1)\n",
    "        \n",
    "    return sliced_array"
   ]
  },
  {
   "cell_type": "code",
   "execution_count": 33,
   "id": "766b31e1",
   "metadata": {
    "ExecuteTime": {
     "end_time": "2022-06-09T21:56:18.365227Z",
     "start_time": "2022-06-09T21:56:18.357601Z"
    },
    "hidden": true
   },
   "outputs": [],
   "source": [
    "if not os.path.exists(os.path.join(os.getcwd(), 'weights')):\n",
    "    os.makedirs(os.path.join(os.getcwd(), 'weights'))"
   ]
  },
  {
   "cell_type": "code",
   "execution_count": 34,
   "id": "b7a538d6",
   "metadata": {
    "ExecuteTime": {
     "end_time": "2022-06-09T21:56:18.681791Z",
     "start_time": "2022-06-09T21:56:18.672683Z"
    },
    "hidden": true
   },
   "outputs": [],
   "source": [
    "def create_model_initial(n, user_id):\n",
    "\n",
    "    layer = layers.Dense(\n",
    "        units=64,\n",
    "        kernel_initializer=initializers.RandomNormal(stddev=0.01),\n",
    "        bias_initializer=initializers.Zeros()\n",
    "    )  \n",
    "    model = Sequential([\n",
    "        layers.Dense(units = n, input_shape = (n,), kernel_initializer=initializers.RandomNormal(mean=0.4, stddev=1.0, seed=user_id*3)),\n",
    "        layers.Dense(units = n, kernel_initializer=initializers.RandomNormal(mean=0.4, stddev=1.0, seed=user_id*3+1)), \n",
    "        layers.Dense(units = n, kernel_initializer=initializers.RandomNormal(mean=0.4, stddev=1.0, seed=user_id*3+2))\n",
    "    ])\n",
    "    \n",
    "    model_path = os.path.join(os.getcwd(), 'weights', f\"standard_encryption_weights_{user_id}.h5\")\n",
    "    model.save(model_path)\n",
    "    \n",
    "    return model_path"
   ]
  },
  {
   "cell_type": "code",
   "execution_count": 35,
   "id": "952d1928",
   "metadata": {
    "ExecuteTime": {
     "end_time": "2022-06-09T21:56:18.947050Z",
     "start_time": "2022-06-09T21:56:18.942068Z"
    },
    "hidden": true
   },
   "outputs": [],
   "source": [
    "def get_predictions(sliced_array, n):\n",
    "    \n",
    "    lvl3 = []\n",
    "    sliced_array = np.array(sliced_array)\n",
    "    \n",
    "    for array in sliced_array:\n",
    "        \n",
    "        predictions = model.predict(np.array(array).reshape(1,n))\n",
    "        lvl3.append(predictions)\n",
    "        \n",
    "    return lvl3"
   ]
  },
  {
   "cell_type": "markdown",
   "id": "6dd3f0b8",
   "metadata": {
    "heading_collapsed": true
   },
   "source": [
    "## Encryption using Artificial Neural Network"
   ]
  },
  {
   "cell_type": "code",
   "execution_count": 36,
   "id": "7bdc6e67",
   "metadata": {
    "ExecuteTime": {
     "end_time": "2022-06-09T21:56:19.498762Z",
     "start_time": "2022-06-09T21:56:19.492846Z"
    },
    "hidden": true
   },
   "outputs": [],
   "source": [
    "inorder_ann = get_ann_input(data_lvl2 = inorder_lvl2) # Converts into numeric form"
   ]
  },
  {
   "cell_type": "code",
   "execution_count": 37,
   "id": "a8bb9af1",
   "metadata": {
    "ExecuteTime": {
     "end_time": "2022-06-09T21:56:19.781185Z",
     "start_time": "2022-06-09T21:56:19.776690Z"
    },
    "hidden": true
   },
   "outputs": [],
   "source": [
    "preorder_ann = get_ann_input(data_lvl2 = preorder_lvl2) # Converts into numeric form"
   ]
  },
  {
   "cell_type": "code",
   "execution_count": 69,
   "id": "145f35aa",
   "metadata": {
    "ExecuteTime": {
     "end_time": "2022-06-09T23:05:17.135105Z",
     "start_time": "2022-06-09T23:05:17.129125Z"
    },
    "hidden": true
   },
   "outputs": [],
   "source": [
    "inorder_ann_sliced = slice_input(inorder_ann, n = 16) # slices the array into arrays of size n, \n",
    "# the last remaining values of the last array are filled with -1"
   ]
  },
  {
   "cell_type": "code",
   "execution_count": 71,
   "id": "6ebaccf1",
   "metadata": {
    "ExecuteTime": {
     "end_time": "2022-06-09T23:05:29.890776Z",
     "start_time": "2022-06-09T23:05:29.888975Z"
    },
    "hidden": true
   },
   "outputs": [],
   "source": [
    "preorder_ann_sliced = slice_input(preorder_ann, n = 16) # slices the array into arrays of size n, \n",
    "# the last remaining values of the last array are filled with -1"
   ]
  },
  {
   "cell_type": "code",
   "execution_count": 72,
   "id": "aa5c9bc6",
   "metadata": {
    "ExecuteTime": {
     "end_time": "2022-06-09T23:06:27.732506Z",
     "start_time": "2022-06-09T23:06:27.665109Z"
    },
    "hidden": true
   },
   "outputs": [
    {
     "name": "stdout",
     "output_type": "stream",
     "text": [
      "WARNING:tensorflow:No training configuration found in the save file, so the model was *not* compiled. Compile it manually.\n"
     ]
    }
   ],
   "source": [
    "model_path = create_model_initial(n=16, user_id=1)\n",
    "model = tf.keras.models.load_model(model_path)"
   ]
  },
  {
   "cell_type": "code",
   "execution_count": 73,
   "id": "57e19acb",
   "metadata": {
    "ExecuteTime": {
     "end_time": "2022-06-09T23:06:28.701534Z",
     "start_time": "2022-06-09T23:06:28.176702Z"
    },
    "hidden": true
   },
   "outputs": [],
   "source": [
    "lvl3_inorder = get_predictions(inorder_ann_sliced, n=16)"
   ]
  },
  {
   "cell_type": "code",
   "execution_count": 74,
   "id": "45b95074",
   "metadata": {
    "ExecuteTime": {
     "end_time": "2022-06-09T23:06:29.119164Z",
     "start_time": "2022-06-09T23:06:28.752908Z"
    },
    "hidden": true
   },
   "outputs": [],
   "source": [
    "lvl3_preorder = get_predictions(preorder_ann_sliced, n=16)"
   ]
  },
  {
   "cell_type": "markdown",
   "id": "c6e558f5",
   "metadata": {
    "heading_collapsed": true
   },
   "source": [
    "## Functions for decrypting Artificial Neural Network"
   ]
  },
  {
   "cell_type": "code",
   "execution_count": 76,
   "id": "0234f00e",
   "metadata": {
    "ExecuteTime": {
     "end_time": "2022-06-09T23:06:38.332251Z",
     "start_time": "2022-06-09T23:06:38.320343Z"
    },
    "hidden": true
   },
   "outputs": [],
   "source": [
    "def get_input_ann(model_path, lvl3, n):\n",
    "    \n",
    "    model = tf.keras.models.load_model(model_path)\n",
    "    \n",
    "    n_layers = len(model.layers)\n",
    "    \n",
    "    dependent_var = lvl3\n",
    "    for i in range(1, n_layers+1):\n",
    "        \n",
    "        dependent_var = np.linalg.solve(model.layers[-i].get_weights()[0].T, dependent_var.reshape(n, 1))\n",
    "        \n",
    "    return dependent_var"
   ]
  },
  {
   "cell_type": "code",
   "execution_count": 82,
   "id": "e44f0436",
   "metadata": {
    "ExecuteTime": {
     "end_time": "2022-06-09T23:09:18.191421Z",
     "start_time": "2022-06-09T23:09:18.180244Z"
    },
    "hidden": true
   },
   "outputs": [],
   "source": [
    "def decrypt_ann(model_path, lvl3, n):\n",
    "    \n",
    "    input_ann = []\n",
    "    \n",
    "    for prediction in lvl3:\n",
    "        \n",
    "        inp = get_input_ann(model_path, prediction, n)\n",
    "        for i in range(0, len(inp)):\n",
    "            if(inp[i][0]<0):\n",
    "                inp[i][0] = -1\n",
    "            else:\n",
    "                inp[i][0] = int(inp[i][0]+0.5) \n",
    "        input_ann.append(inp)\n",
    "        \n",
    "    return input_ann"
   ]
  },
  {
   "cell_type": "code",
   "execution_count": 95,
   "id": "39ed8c35",
   "metadata": {
    "ExecuteTime": {
     "end_time": "2022-06-09T23:13:02.140005Z",
     "start_time": "2022-06-09T23:13:02.128377Z"
    },
    "hidden": true
   },
   "outputs": [],
   "source": [
    "def get_lvl2(data_array):\n",
    "    \n",
    "    lvl2_decrypted = []\n",
    "    \n",
    "    for array in data_array:\n",
    "                \n",
    "        for i in array:\n",
    "            \n",
    "#             print(i)\n",
    "            i = int(i)\n",
    "            if(i == -1):\n",
    "                break\n",
    "            \n",
    "            elif(i>256):\n",
    "                n_star = int(i/256)\n",
    "                stars = '*' * n_star\n",
    "                char = chr(i%256)\n",
    "                lvl2_decrypted.append(f'{char}{stars}')\n",
    "            \n",
    "            else:\n",
    "                lvl2_decrypted.append(chr(i))\n",
    "            \n",
    "    lvl2_decrypted = np.array(lvl2_decrypted).reshape(-1)\n",
    "    \n",
    "    return lvl2_decrypted"
   ]
  },
  {
   "cell_type": "markdown",
   "id": "0549a98a",
   "metadata": {
    "heading_collapsed": true
   },
   "source": [
    "## Decrypting Artificial Neural Network"
   ]
  },
  {
   "cell_type": "code",
   "execution_count": 87,
   "id": "3b3b9415",
   "metadata": {
    "ExecuteTime": {
     "end_time": "2022-06-09T23:10:10.127246Z",
     "start_time": "2022-06-09T23:10:10.004992Z"
    },
    "collapsed": true,
    "hidden": true
   },
   "outputs": [
    {
     "name": "stdout",
     "output_type": "stream",
     "text": [
      "WARNING:tensorflow:No training configuration found in the save file, so the model was *not* compiled. Compile it manually.\n",
      "WARNING:tensorflow:No training configuration found in the save file, so the model was *not* compiled. Compile it manually.\n",
      "WARNING:tensorflow:No training configuration found in the save file, so the model was *not* compiled. Compile it manually.\n",
      "WARNING:tensorflow:No training configuration found in the save file, so the model was *not* compiled. Compile it manually.\n"
     ]
    }
   ],
   "source": [
    "inorder_ann_input = decrypt_ann(model_path, lvl3 = lvl3_inorder, n = 16)"
   ]
  },
  {
   "cell_type": "code",
   "execution_count": 83,
   "id": "ea73f71d",
   "metadata": {
    "ExecuteTime": {
     "end_time": "2022-06-09T23:09:21.720939Z",
     "start_time": "2022-06-09T23:09:21.597213Z"
    },
    "hidden": true
   },
   "outputs": [
    {
     "name": "stdout",
     "output_type": "stream",
     "text": [
      "WARNING:tensorflow:No training configuration found in the save file, so the model was *not* compiled. Compile it manually.\n",
      "WARNING:tensorflow:No training configuration found in the save file, so the model was *not* compiled. Compile it manually.\n",
      "WARNING:tensorflow:No training configuration found in the save file, so the model was *not* compiled. Compile it manually.\n",
      "WARNING:tensorflow:No training configuration found in the save file, so the model was *not* compiled. Compile it manually.\n"
     ]
    }
   ],
   "source": [
    "preorder_ann_input = decrypt_ann(model_path, lvl3 = lvl3_preorder, n = 16)"
   ]
  },
  {
   "cell_type": "code",
   "execution_count": 96,
   "id": "fc3fc031",
   "metadata": {
    "ExecuteTime": {
     "end_time": "2022-06-09T23:13:08.643596Z",
     "start_time": "2022-06-09T23:13:08.637447Z"
    },
    "hidden": true
   },
   "outputs": [],
   "source": [
    "inorder_lvl2_decrypted = get_lvl2(inorder_ann_input)"
   ]
  },
  {
   "cell_type": "code",
   "execution_count": 99,
   "id": "7c8ea474",
   "metadata": {
    "ExecuteTime": {
     "end_time": "2022-06-09T23:13:40.083210Z",
     "start_time": "2022-06-09T23:13:40.077204Z"
    },
    "hidden": true
   },
   "outputs": [],
   "source": [
    "preorder_lvl2_decrypted = get_lvl2(preorder_ann_input)"
   ]
  },
  {
   "cell_type": "markdown",
   "id": "bd730b50",
   "metadata": {},
   "source": [
    "# Combining functions"
   ]
  },
  {
   "cell_type": "markdown",
   "id": "3be96080",
   "metadata": {},
   "source": [
    "## Encryption Function"
   ]
  },
  {
   "cell_type": "code",
   "execution_count": 114,
   "id": "b4f8068d",
   "metadata": {
    "ExecuteTime": {
     "end_time": "2022-06-09T23:22:33.381949Z",
     "start_time": "2022-06-09T23:22:33.375985Z"
    }
   },
   "outputs": [],
   "source": [
    "# input_data = \"HDNKd gKLC LFKfg  fgGAUFfdsa fCMDG\"\n",
    "# salt = \"NBPFQLLpkqIQHIz10TGG\"\n",
    "input_data = \"abcdefghijklmnopqrstuvwxyz\"\n",
    "salt = \"123456789\""
   ]
  },
  {
   "cell_type": "code",
   "execution_count": 59,
   "id": "3d912650",
   "metadata": {
    "ExecuteTime": {
     "end_time": "2022-06-09T21:57:52.679404Z",
     "start_time": "2022-06-09T21:57:52.665178Z"
    }
   },
   "outputs": [],
   "source": [
    "def encrypt(input_data, salt, n, user_id): # n represents the number of nodes in the layer of the ANN\n",
    "    \n",
    "    lvl1 = interleave(input_data, salt)\n",
    "    \n",
    "    inorder, preorder = encrypt_binary_tree(lvl1)\n",
    "    inorder_lvl2, preorder_lvl2 = copy.deepcopy(inorder), copy.deepcopy(preorder)\n",
    "    \n",
    "    inorder_ann = get_ann_input(data_lvl2 = inorder_lvl2)\n",
    "    preorder_ann = get_ann_input(data_lvl2 = preorder_lvl2)\n",
    "    inorder_ann_sliced = slice_input(inorder_ann, n)\n",
    "    preorder_ann_sliced = slice_input(preorder_ann, n = 16)\n",
    "    model_path = os.path.join(os.getcwd(), 'weights', f\"standard_encryption_weights_{user_id}.h5\")\n",
    "    is_exists = os.path.exists(model_path)\n",
    "    if not is_exists:\n",
    "        model_path = create_model_initial(n, 1)\n",
    "    model = tf.keras.models.load_model(model_path)\n",
    "    lvl3_inorder = get_predictions(inorder_ann_sliced, n=16)\n",
    "    lvl3_preorder = get_predictions(preorder_ann_sliced, n=16)\n",
    "        \n",
    "    encrypted_value = np.concatenate((lvl3_inorder, lvl3_preorder))\n",
    "\n",
    "    return encrypted_value"
   ]
  },
  {
   "cell_type": "code",
   "execution_count": 60,
   "id": "b44f0fd0",
   "metadata": {
    "ExecuteTime": {
     "end_time": "2022-06-09T21:57:53.373014Z",
     "start_time": "2022-06-09T21:57:52.870025Z"
    }
   },
   "outputs": [
    {
     "name": "stdout",
     "output_type": "stream",
     "text": [
      "WARNING:tensorflow:No training configuration found in the save file, so the model was *not* compiled. Compile it manually.\n"
     ]
    }
   ],
   "source": [
    "inorder = []\n",
    "preorder = []\n",
    "encrypted_value = encrypt(input_data, salt, n = 16, user_id = 1)"
   ]
  },
  {
   "cell_type": "markdown",
   "id": "d5f07dd8",
   "metadata": {},
   "source": [
    "## Decryption Function"
   ]
  },
  {
   "cell_type": "code",
   "execution_count": 119,
   "id": "a6430d2e",
   "metadata": {
    "ExecuteTime": {
     "end_time": "2022-06-09T23:25:34.577970Z",
     "start_time": "2022-06-09T23:25:34.564655Z"
    }
   },
   "outputs": [],
   "source": [
    "def decrypt(encrypted_value, n, user_id): # n represents the number of nodes in the layer of the ANN\n",
    "    \n",
    "    mid_index = int(len(encrypted_value)/2)\n",
    "    lvl3_inorder, lvl3_preorder = encrypted_value[:mid_index], encrypted_value[mid_index:]\n",
    "    \n",
    "    inorder_ann_input = decrypt_ann(model_path, lvl3 = lvl3_inorder, n = 16)\n",
    "    preorder_ann_input = decrypt_ann(model_path, lvl3 = lvl3_preorder, n = 16)\n",
    "    inorder_lvl2_decrypted = get_lvl2(inorder_ann_input)\n",
    "    preorder_lvl2_decrypted = get_lvl2(preorder_ann_input)\n",
    "    \n",
    "    lvl1 = decrypt_binary_tree(inorder_lvl2_decrypted, preorder_lvl2_decrypted)\n",
    "    \n",
    "    input_array, salt = decrypt_interleave(interleaved_data = lvl1)\n",
    "    \n",
    "    decrypted_value = ''\n",
    "    for s in input_array:\n",
    "        decrypted_value += s\n",
    "    \n",
    "    return decrypted_value"
   ]
  },
  {
   "cell_type": "code",
   "execution_count": 120,
   "id": "2ff6d36c",
   "metadata": {
    "ExecuteTime": {
     "end_time": "2022-06-09T23:25:35.107072Z",
     "start_time": "2022-06-09T23:25:34.884748Z"
    },
    "scrolled": true
   },
   "outputs": [
    {
     "name": "stdout",
     "output_type": "stream",
     "text": [
      "WARNING:tensorflow:No training configuration found in the save file, so the model was *not* compiled. Compile it manually.\n",
      "WARNING:tensorflow:No training configuration found in the save file, so the model was *not* compiled. Compile it manually.\n",
      "WARNING:tensorflow:No training configuration found in the save file, so the model was *not* compiled. Compile it manually.\n",
      "WARNING:tensorflow:No training configuration found in the save file, so the model was *not* compiled. Compile it manually.\n",
      "WARNING:tensorflow:No training configuration found in the save file, so the model was *not* compiled. Compile it manually.\n",
      "WARNING:tensorflow:No training configuration found in the save file, so the model was *not* compiled. Compile it manually.\n",
      "WARNING:tensorflow:No training configuration found in the save file, so the model was *not* compiled. Compile it manually.\n",
      "WARNING:tensorflow:No training configuration found in the save file, so the model was *not* compiled. Compile it manually.\n"
     ]
    }
   ],
   "source": [
    "decrypted_value = decrypt(encrypted_value, n = 16, user_id = 1)"
   ]
  },
  {
   "cell_type": "code",
   "execution_count": 121,
   "id": "dcfa6374",
   "metadata": {
    "ExecuteTime": {
     "end_time": "2022-06-09T23:25:38.082540Z",
     "start_time": "2022-06-09T23:25:38.072935Z"
    }
   },
   "outputs": [
    {
     "data": {
      "text/plain": [
       "'abcdefghijklmnopqrstuvwxyz'"
      ]
     },
     "execution_count": 121,
     "metadata": {},
     "output_type": "execute_result"
    }
   ],
   "source": [
    "decrypted_value"
   ]
  },
  {
   "cell_type": "markdown",
   "id": "bd0f34da",
   "metadata": {},
   "source": [
    "# Results"
   ]
  },
  {
   "cell_type": "code",
   "execution_count": 127,
   "id": "ee71ab40",
   "metadata": {
    "ExecuteTime": {
     "end_time": "2022-06-09T23:25:56.252276Z",
     "start_time": "2022-06-09T23:25:56.244857Z"
    }
   },
   "outputs": [],
   "source": [
    "input_data = \"HDNKd gKLC LFKfg  fgGAUFfdsa fCMDG\"\n",
    "salt = \"NBPFQLLpkqIQHIz10TGG\"\n",
    "# input_data = \"abcdefghijklmnopqrstuvwxyz\"\n",
    "# salt = \"123456789\""
   ]
  },
  {
   "cell_type": "code",
   "execution_count": 128,
   "id": "8e17bf91",
   "metadata": {
    "ExecuteTime": {
     "end_time": "2022-06-09T23:25:56.856798Z",
     "start_time": "2022-06-09T23:25:56.854218Z"
    }
   },
   "outputs": [],
   "source": [
    "if not os.path.exists(os.path.join(os.getcwd(), 'weights')):\n",
    "    os.makedirs(os.path.join(os.getcwd(), 'weights'))        "
   ]
  },
  {
   "cell_type": "code",
   "execution_count": 129,
   "id": "2ddb9f62",
   "metadata": {
    "ExecuteTime": {
     "end_time": "2022-06-09T23:25:57.998369Z",
     "start_time": "2022-06-09T23:25:57.103879Z"
    },
    "scrolled": true
   },
   "outputs": [
    {
     "name": "stdout",
     "output_type": "stream",
     "text": [
      "WARNING:tensorflow:No training configuration found in the save file, so the model was *not* compiled. Compile it manually.\n",
      "The encrypted value is :- \n",
      "[[[189380.95     92746.234   160445.3      66694.84    116500.7\n",
      "    45273.414    38770.625   161019.9     249999.02     98925.71\n",
      "   117495.08     -4416.9297   50432.03    163458.1     175974.77\n",
      "    70263.55   ]]\n",
      "\n",
      " [[126804.29     61865.188    84194.13     33459.055    83826.55\n",
      "    41860.047    30711.07    126374.64    181938.72     73125.44\n",
      "    91622.33      4963.75     39523.777    96353.016   114529.9\n",
      "    35607.57   ]]\n",
      "\n",
      " [[220360.77    117323.79    148124.38     46257.547   131731.19\n",
      "   102885.21     95251.71    196004.56    312129.12    134155.92\n",
      "   225952.28     37723.84     81748.38    164900.16    217966.08\n",
      "    37398.086  ]]\n",
      "\n",
      " [[107872.8      69946.36     63106.03     33666.766    90628.64\n",
      "    88987.11    125159.02    119426.      203216.56     83052.86\n",
      "   137824.36     14132.528    41068.28     77326.734   123423.49\n",
      "    62915.43   ]]\n",
      "\n",
      " [[ 49710.035    30407.902    22858.656     8607.968    41362.46\n",
      "    35526.57     33873.5      42387.19     69110.45     33918.254\n",
      "    45035.598     8095.5005   14156.029    13157.982    23221.254\n",
      "    22816.043  ]]\n",
      "\n",
      " [[180459.55     89944.16    126967.86     41675.83     90742.55\n",
      "    68635.72     75348.53    156234.4     240564.44     97166.92\n",
      "   183789.       18934.14     57777.305   144107.88    168208.11\n",
      "    21917.516  ]]\n",
      "\n",
      " [[117874.23     71382.28     95181.44     43084.63     97453.12\n",
      "    35812.832    22153.92    116183.04    180520.48     68667.13\n",
      "    98513.98      -977.12695  38105.504   121221.66    134287.16\n",
      "    53966.016  ]]\n",
      "\n",
      " [[189459.94    106720.58    142097.42     57011.883   136887.52\n",
      "    55364.61     10959.768   184490.44    269000.97    101488.89\n",
      "   142051.95      4186.0703   77260.61    139668.1     180047.53\n",
      "    56610.76   ]]\n",
      "\n",
      " [[268981.      141382.58    171163.02     70708.11    205640.03\n",
      "    89869.42     42864.03    269774.1     377241.      148509.69\n",
      "   172129.5       2062.8047   89828.914   178415.31    205877.12\n",
      "    96704.19   ]]\n",
      "\n",
      " [[ 58490.27     36728.344    29628.988    12263.5      51227.89\n",
      "    34153.082    30784.387    52705.977    82239.734    37598.316\n",
      "    48934.79      8258.227    21893.047    21127.365    35284.43\n",
      "    27345.145  ]]]\n"
     ]
    }
   ],
   "source": [
    "inorder = []\n",
    "preorder = []\n",
    "encrypted_value = encrypt(input_data, salt, n = 16, user_id = 1)\n",
    "print(\"The encrypted value is :- \")\n",
    "print(encrypted_value)"
   ]
  },
  {
   "cell_type": "code",
   "execution_count": 130,
   "id": "160bfc44",
   "metadata": {
    "ExecuteTime": {
     "end_time": "2022-06-09T23:25:58.485931Z",
     "start_time": "2022-06-09T23:25:58.084787Z"
    }
   },
   "outputs": [
    {
     "name": "stdout",
     "output_type": "stream",
     "text": [
      "WARNING:tensorflow:No training configuration found in the save file, so the model was *not* compiled. Compile it manually.\n",
      "WARNING:tensorflow:No training configuration found in the save file, so the model was *not* compiled. Compile it manually.\n",
      "WARNING:tensorflow:No training configuration found in the save file, so the model was *not* compiled. Compile it manually.\n",
      "WARNING:tensorflow:No training configuration found in the save file, so the model was *not* compiled. Compile it manually.\n",
      "WARNING:tensorflow:No training configuration found in the save file, so the model was *not* compiled. Compile it manually.\n",
      "WARNING:tensorflow:No training configuration found in the save file, so the model was *not* compiled. Compile it manually.\n",
      "WARNING:tensorflow:No training configuration found in the save file, so the model was *not* compiled. Compile it manually.\n",
      "WARNING:tensorflow:No training configuration found in the save file, so the model was *not* compiled. Compile it manually.\n",
      "WARNING:tensorflow:No training configuration found in the save file, so the model was *not* compiled. Compile it manually.\n",
      "WARNING:tensorflow:No training configuration found in the save file, so the model was *not* compiled. Compile it manually.\n",
      "The decrypted value is :- \n",
      "HDNKd gKLC LFKfg  fgGAUFfdsa fCMDG\n"
     ]
    }
   ],
   "source": [
    "decrypted_value = decrypt(encrypted_value, n = 16, user_id = 1)\n",
    "print(\"The decrypted value is :- \")\n",
    "print(decrypted_value)"
   ]
  },
  {
   "cell_type": "code",
   "execution_count": 131,
   "id": "0947e756",
   "metadata": {
    "ExecuteTime": {
     "end_time": "2022-06-09T23:25:58.767723Z",
     "start_time": "2022-06-09T23:25:58.760670Z"
    }
   },
   "outputs": [
    {
     "name": "stdout",
     "output_type": "stream",
     "text": [
      "SUCCESS!!\n"
     ]
    }
   ],
   "source": [
    "if(input_data == decrypted_value):\n",
    "    print(\"SUCCESS!!\")"
   ]
  },
  {
   "cell_type": "markdown",
   "id": "f6da15dc",
   "metadata": {},
   "source": [
    "# Testing on image"
   ]
  },
  {
   "cell_type": "code",
   "execution_count": 132,
   "id": "be43983d",
   "metadata": {
    "ExecuteTime": {
     "end_time": "2022-06-09T23:28:47.084104Z",
     "start_time": "2022-06-09T23:28:46.961302Z"
    }
   },
   "outputs": [],
   "source": [
    "import cv2"
   ]
  },
  {
   "cell_type": "code",
   "execution_count": 137,
   "id": "fcf95c87",
   "metadata": {
    "ExecuteTime": {
     "end_time": "2022-06-09T23:31:07.000240Z",
     "start_time": "2022-06-09T23:31:06.991551Z"
    }
   },
   "outputs": [],
   "source": [
    "original_img = cv2.imread(\"test_image.jpg\", cv2.IMREAD_COLOR)"
   ]
  },
  {
   "cell_type": "code",
   "execution_count": 138,
   "id": "2a4e3447",
   "metadata": {
    "ExecuteTime": {
     "end_time": "2022-06-09T23:31:09.787584Z",
     "start_time": "2022-06-09T23:31:09.781496Z"
    }
   },
   "outputs": [],
   "source": [
    "original_shape = original_img.shape"
   ]
  },
  {
   "cell_type": "code",
   "execution_count": 139,
   "id": "7241d9fc",
   "metadata": {
    "ExecuteTime": {
     "end_time": "2022-06-09T23:31:23.079717Z",
     "start_time": "2022-06-09T23:31:23.073287Z"
    }
   },
   "outputs": [],
   "source": [
    "img = copy.deepcopy(original_img)"
   ]
  },
  {
   "cell_type": "code",
   "execution_count": 140,
   "id": "21cd4cae",
   "metadata": {
    "ExecuteTime": {
     "end_time": "2022-06-09T23:31:31.321643Z",
     "start_time": "2022-06-09T23:31:31.315780Z"
    }
   },
   "outputs": [],
   "source": [
    "img = img.reshape(-1)"
   ]
  },
  {
   "cell_type": "code",
   "execution_count": 142,
   "id": "8e722499",
   "metadata": {
    "ExecuteTime": {
     "end_time": "2022-06-09T23:39:34.310698Z",
     "start_time": "2022-06-09T23:39:34.166643Z"
    }
   },
   "outputs": [],
   "source": [
    "len_array = []\n",
    "for val in img:\n",
    "    len_array.append(len(str(val)))"
   ]
  },
  {
   "cell_type": "code",
   "execution_count": 145,
   "id": "e69b8b5d",
   "metadata": {
    "ExecuteTime": {
     "end_time": "2022-06-09T23:40:57.202025Z",
     "start_time": "2022-06-09T23:40:57.052110Z"
    }
   },
   "outputs": [],
   "source": [
    "input_data = ''\n",
    "for i in img:\n",
    "    input_data += str(i)"
   ]
  },
  {
   "cell_type": "code",
   "execution_count": 147,
   "id": "4291c51a",
   "metadata": {
    "ExecuteTime": {
     "end_time": "2022-06-09T23:41:28.670614Z",
     "start_time": "2022-06-09T23:41:28.663110Z"
    }
   },
   "outputs": [],
   "source": [
    "if not os.path.exists(os.path.join(os.getcwd(), 'weights')):\n",
    "    os.makedirs(os.path.join(os.getcwd(), 'weights')) "
   ]
  },
  {
   "cell_type": "code",
   "execution_count": null,
   "id": "e22bdfc4",
   "metadata": {
    "ExecuteTime": {
     "start_time": "2022-06-09T23:41:38.348Z"
    }
   },
   "outputs": [],
   "source": [
    "inorder = []\n",
    "preorder = []\n",
    "encrypted_value = encrypt(input_data, salt, n = 16, user_id = 1)\n",
    "print(\"The encrypted value is :- \")\n",
    "print(encrypted_value)"
   ]
  },
  {
   "cell_type": "code",
   "execution_count": null,
   "id": "740d2278",
   "metadata": {},
   "outputs": [],
   "source": [
    "    "
   ]
  }
 ],
 "metadata": {
  "kernelspec": {
   "display_name": "Python 3",
   "language": "python",
   "name": "python3"
  },
  "language_info": {
   "codemirror_mode": {
    "name": "ipython",
    "version": 3
   },
   "file_extension": ".py",
   "mimetype": "text/x-python",
   "name": "python",
   "nbconvert_exporter": "python",
   "pygments_lexer": "ipython3",
   "version": "3.8.8"
  },
  "toc": {
   "base_numbering": 1,
   "nav_menu": {},
   "number_sections": true,
   "sideBar": true,
   "skip_h1_title": false,
   "title_cell": "Table of Contents",
   "title_sidebar": "Contents",
   "toc_cell": false,
   "toc_position": {
    "height": "calc(100% - 180px)",
    "left": "10px",
    "top": "150px",
    "width": "165px"
   },
   "toc_section_display": true,
   "toc_window_display": true
  },
  "varInspector": {
   "cols": {
    "lenName": 16,
    "lenType": 16,
    "lenVar": 40
   },
   "kernels_config": {
    "python": {
     "delete_cmd_postfix": "",
     "delete_cmd_prefix": "del ",
     "library": "var_list.py",
     "varRefreshCmd": "print(var_dic_list())"
    },
    "r": {
     "delete_cmd_postfix": ") ",
     "delete_cmd_prefix": "rm(",
     "library": "var_list.r",
     "varRefreshCmd": "cat(var_dic_list()) "
    }
   },
   "types_to_exclude": [
    "module",
    "function",
    "builtin_function_or_method",
    "instance",
    "_Feature"
   ],
   "window_display": false
  }
 },
 "nbformat": 4,
 "nbformat_minor": 5
}
